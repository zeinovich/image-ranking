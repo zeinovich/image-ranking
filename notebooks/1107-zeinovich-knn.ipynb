{
 "cells": [
  {
   "cell_type": "code",
   "execution_count": 1,
   "metadata": {},
   "outputs": [],
   "source": [
    "import pandas as pd\n",
    "import numpy as np\n",
    "import matplotlib.pyplot as plt\n",
    "import seaborn as sns\n",
    "import mlflow\n",
    "import pickle\n",
    "from tqdm import tqdm"
   ]
  },
  {
   "cell_type": "markdown",
   "metadata": {},
   "source": [
    "# Experiment setup"
   ]
  },
  {
   "cell_type": "code",
   "execution_count": 2,
   "metadata": {},
   "outputs": [],
   "source": [
    "mlflow.set_tracking_uri('../mlflow')\n",
    "\n",
    "if mlflow.get_experiment_by_name('image-based recsys') is None:\n",
    "    mlflow.set_experiment('image-based recsys')"
   ]
  },
  {
   "cell_type": "markdown",
   "metadata": {},
   "source": [
    "# Data"
   ]
  },
  {
   "cell_type": "code",
   "execution_count": 3,
   "metadata": {},
   "outputs": [],
   "source": [
    "with open('../data/styles-44c73c23.pkl', 'rb') as f:\n",
    "    styles = pickle.load(f)"
   ]
  },
  {
   "cell_type": "code",
   "execution_count": 4,
   "metadata": {},
   "outputs": [],
   "source": [
    "embeddings = pd.read_parquet('../data/embeddings-44c73c23.parquet')"
   ]
  },
  {
   "cell_type": "code",
   "execution_count": 5,
   "metadata": {},
   "outputs": [
    {
     "data": {
      "text/plain": [
       "((44412, 40), (44412, 1281))"
      ]
     },
     "execution_count": 5,
     "metadata": {},
     "output_type": "execute_result"
    }
   ],
   "source": [
    "styles.shape, embeddings.shape"
   ]
  },
  {
   "cell_type": "code",
   "execution_count": 6,
   "metadata": {},
   "outputs": [
    {
     "name": "stderr",
     "output_type": "stream",
     "text": [
      "/home/zeinovich/anaconda3/envs/image-ranking/lib/python3.9/site-packages/pandas/core/indexes/base.py:6999: FutureWarning: In a future version, the Index constructor will not infer numeric dtypes when passed object-dtype sequences (matching Series behavior)\n",
      "  return Index(sequences[0], name=names)\n"
     ]
    }
   ],
   "source": [
    "embeddings = embeddings.set_index('image')\n",
    "styles = styles.set_index('id')"
   ]
  },
  {
   "cell_type": "code",
   "execution_count": 7,
   "metadata": {},
   "outputs": [
    {
     "data": {
      "text/plain": [
       "(44412, 44412)"
      ]
     },
     "execution_count": 7,
     "metadata": {},
     "output_type": "execute_result"
    }
   ],
   "source": [
    "styles.index.isin(embeddings.index).sum(), embeddings.index.isin(styles.index).sum()"
   ]
  },
  {
   "cell_type": "code",
   "execution_count": 8,
   "metadata": {},
   "outputs": [
    {
     "data": {
      "text/html": [
       "<div>\n",
       "<style scoped>\n",
       "    .dataframe tbody tr th:only-of-type {\n",
       "        vertical-align: middle;\n",
       "    }\n",
       "\n",
       "    .dataframe tbody tr th {\n",
       "        vertical-align: top;\n",
       "    }\n",
       "\n",
       "    .dataframe thead th {\n",
       "        text-align: right;\n",
       "    }\n",
       "</style>\n",
       "<table border=\"1\" class=\"dataframe\">\n",
       "  <thead>\n",
       "    <tr style=\"text-align: right;\">\n",
       "      <th></th>\n",
       "      <th>id</th>\n",
       "    </tr>\n",
       "  </thead>\n",
       "  <tbody>\n",
       "    <tr>\n",
       "      <th>0</th>\n",
       "      <td>23591</td>\n",
       "    </tr>\n",
       "    <tr>\n",
       "      <th>1</th>\n",
       "      <td>39604</td>\n",
       "    </tr>\n",
       "    <tr>\n",
       "      <th>2</th>\n",
       "      <td>49462</td>\n",
       "    </tr>\n",
       "    <tr>\n",
       "      <th>3</th>\n",
       "      <td>26809</td>\n",
       "    </tr>\n",
       "    <tr>\n",
       "      <th>4</th>\n",
       "      <td>56261</td>\n",
       "    </tr>\n",
       "  </tbody>\n",
       "</table>\n",
       "</div>"
      ],
      "text/plain": [
       "      id\n",
       "0  23591\n",
       "1  39604\n",
       "2  49462\n",
       "3  26809\n",
       "4  56261"
      ]
     },
     "execution_count": 8,
     "metadata": {},
     "output_type": "execute_result"
    }
   ],
   "source": [
    "holdout = pd.read_csv('../data/holdout_ids.csv')\n",
    "holdout.head()"
   ]
  },
  {
   "cell_type": "code",
   "execution_count": 9,
   "metadata": {},
   "outputs": [],
   "source": [
    "styles = styles[~styles.index.isin(holdout['id'])]\n",
    "embeddings = embeddings[~embeddings.index.isin(holdout['id'])]"
   ]
  },
  {
   "cell_type": "code",
   "execution_count": 10,
   "metadata": {},
   "outputs": [],
   "source": [
    "styles = styles.sort_index()\n",
    "embeddings = embeddings.sort_index()"
   ]
  },
  {
   "cell_type": "markdown",
   "metadata": {},
   "source": [
    "# Scaling"
   ]
  },
  {
   "cell_type": "code",
   "execution_count": 12,
   "metadata": {},
   "outputs": [],
   "source": [
    "from sklearn.preprocessing import StandardScaler\n",
    "\n",
    "scaler = StandardScaler()\n",
    "scaler.fit(embeddings)\n",
    "embeddings = pd.DataFrame(scaler.fit_transform(embeddings.values), columns=embeddings.columns, index=embeddings.index)"
   ]
  },
  {
   "cell_type": "code",
   "execution_count": 13,
   "metadata": {},
   "outputs": [],
   "source": [
    "with open('../src/backend/ML-models/scaler.pkl', 'wb') as f:\n",
    "    pickle.dump(scaler, f)"
   ]
  },
  {
   "cell_type": "code",
   "execution_count": 14,
   "metadata": {},
   "outputs": [
    {
     "data": {
      "text/html": [
       "<div>\n",
       "<style scoped>\n",
       "    .dataframe tbody tr th:only-of-type {\n",
       "        vertical-align: middle;\n",
       "    }\n",
       "\n",
       "    .dataframe tbody tr th {\n",
       "        vertical-align: top;\n",
       "    }\n",
       "\n",
       "    .dataframe thead th {\n",
       "        text-align: right;\n",
       "    }\n",
       "</style>\n",
       "<table border=\"1\" class=\"dataframe\">\n",
       "  <thead>\n",
       "    <tr style=\"text-align: right;\">\n",
       "      <th></th>\n",
       "      <th>0</th>\n",
       "      <th>1</th>\n",
       "      <th>2</th>\n",
       "      <th>3</th>\n",
       "      <th>4</th>\n",
       "      <th>5</th>\n",
       "      <th>6</th>\n",
       "      <th>7</th>\n",
       "      <th>8</th>\n",
       "      <th>9</th>\n",
       "      <th>...</th>\n",
       "      <th>1270</th>\n",
       "      <th>1271</th>\n",
       "      <th>1272</th>\n",
       "      <th>1273</th>\n",
       "      <th>1274</th>\n",
       "      <th>1275</th>\n",
       "      <th>1276</th>\n",
       "      <th>1277</th>\n",
       "      <th>1278</th>\n",
       "      <th>1279</th>\n",
       "    </tr>\n",
       "    <tr>\n",
       "      <th>image</th>\n",
       "      <th></th>\n",
       "      <th></th>\n",
       "      <th></th>\n",
       "      <th></th>\n",
       "      <th></th>\n",
       "      <th></th>\n",
       "      <th></th>\n",
       "      <th></th>\n",
       "      <th></th>\n",
       "      <th></th>\n",
       "      <th></th>\n",
       "      <th></th>\n",
       "      <th></th>\n",
       "      <th></th>\n",
       "      <th></th>\n",
       "      <th></th>\n",
       "      <th></th>\n",
       "      <th></th>\n",
       "      <th></th>\n",
       "      <th></th>\n",
       "      <th></th>\n",
       "    </tr>\n",
       "  </thead>\n",
       "  <tbody>\n",
       "    <tr>\n",
       "      <th>1163</th>\n",
       "      <td>-0.559129</td>\n",
       "      <td>0.064624</td>\n",
       "      <td>-0.541653</td>\n",
       "      <td>0.494476</td>\n",
       "      <td>-0.732576</td>\n",
       "      <td>-0.364267</td>\n",
       "      <td>0.217243</td>\n",
       "      <td>-0.063711</td>\n",
       "      <td>-0.646313</td>\n",
       "      <td>-0.179434</td>\n",
       "      <td>...</td>\n",
       "      <td>-0.627197</td>\n",
       "      <td>0.065260</td>\n",
       "      <td>0.076759</td>\n",
       "      <td>0.114998</td>\n",
       "      <td>1.375037</td>\n",
       "      <td>2.669481</td>\n",
       "      <td>-0.539308</td>\n",
       "      <td>1.235730</td>\n",
       "      <td>-0.264875</td>\n",
       "      <td>-0.551288</td>\n",
       "    </tr>\n",
       "    <tr>\n",
       "      <th>1164</th>\n",
       "      <td>-0.766388</td>\n",
       "      <td>0.337273</td>\n",
       "      <td>-0.494332</td>\n",
       "      <td>0.815344</td>\n",
       "      <td>-0.737816</td>\n",
       "      <td>-0.310305</td>\n",
       "      <td>0.393708</td>\n",
       "      <td>0.110811</td>\n",
       "      <td>-0.465037</td>\n",
       "      <td>0.744875</td>\n",
       "      <td>...</td>\n",
       "      <td>-0.638863</td>\n",
       "      <td>-0.071575</td>\n",
       "      <td>0.001753</td>\n",
       "      <td>0.326641</td>\n",
       "      <td>1.232199</td>\n",
       "      <td>2.403879</td>\n",
       "      <td>-0.615210</td>\n",
       "      <td>1.178555</td>\n",
       "      <td>-0.179312</td>\n",
       "      <td>-0.542332</td>\n",
       "    </tr>\n",
       "    <tr>\n",
       "      <th>1165</th>\n",
       "      <td>0.001387</td>\n",
       "      <td>-0.152014</td>\n",
       "      <td>-0.213541</td>\n",
       "      <td>0.618311</td>\n",
       "      <td>-0.020924</td>\n",
       "      <td>-0.840245</td>\n",
       "      <td>-1.184028</td>\n",
       "      <td>-0.156743</td>\n",
       "      <td>-0.092964</td>\n",
       "      <td>-1.446525</td>\n",
       "      <td>...</td>\n",
       "      <td>0.190283</td>\n",
       "      <td>-0.624775</td>\n",
       "      <td>1.240647</td>\n",
       "      <td>-0.261998</td>\n",
       "      <td>-0.666391</td>\n",
       "      <td>-0.848931</td>\n",
       "      <td>-0.066920</td>\n",
       "      <td>1.264973</td>\n",
       "      <td>-0.255418</td>\n",
       "      <td>-0.544567</td>\n",
       "    </tr>\n",
       "    <tr>\n",
       "      <th>1525</th>\n",
       "      <td>1.538574</td>\n",
       "      <td>0.237531</td>\n",
       "      <td>-0.865232</td>\n",
       "      <td>-0.432264</td>\n",
       "      <td>-0.699365</td>\n",
       "      <td>-0.021174</td>\n",
       "      <td>0.358182</td>\n",
       "      <td>0.011606</td>\n",
       "      <td>-0.859797</td>\n",
       "      <td>1.771345</td>\n",
       "      <td>...</td>\n",
       "      <td>-0.424415</td>\n",
       "      <td>-0.100269</td>\n",
       "      <td>-1.089163</td>\n",
       "      <td>0.107877</td>\n",
       "      <td>-0.042046</td>\n",
       "      <td>-0.429806</td>\n",
       "      <td>0.405103</td>\n",
       "      <td>-0.404875</td>\n",
       "      <td>1.598210</td>\n",
       "      <td>-0.669227</td>\n",
       "    </tr>\n",
       "    <tr>\n",
       "      <th>1526</th>\n",
       "      <td>0.989720</td>\n",
       "      <td>0.304483</td>\n",
       "      <td>-0.677383</td>\n",
       "      <td>-0.325525</td>\n",
       "      <td>-0.689746</td>\n",
       "      <td>-0.702989</td>\n",
       "      <td>0.339682</td>\n",
       "      <td>-0.302013</td>\n",
       "      <td>-0.595768</td>\n",
       "      <td>0.823138</td>\n",
       "      <td>...</td>\n",
       "      <td>-0.563310</td>\n",
       "      <td>-1.299171</td>\n",
       "      <td>-0.895376</td>\n",
       "      <td>0.419114</td>\n",
       "      <td>0.449609</td>\n",
       "      <td>-0.270480</td>\n",
       "      <td>1.217311</td>\n",
       "      <td>-0.358990</td>\n",
       "      <td>-0.562421</td>\n",
       "      <td>-0.664526</td>\n",
       "    </tr>\n",
       "  </tbody>\n",
       "</table>\n",
       "<p>5 rows × 1280 columns</p>\n",
       "</div>"
      ],
      "text/plain": [
       "              0         1         2         3         4         5         6  \\\n",
       "image                                                                         \n",
       "1163  -0.559129  0.064624 -0.541653  0.494476 -0.732576 -0.364267  0.217243   \n",
       "1164  -0.766388  0.337273 -0.494332  0.815344 -0.737816 -0.310305  0.393708   \n",
       "1165   0.001387 -0.152014 -0.213541  0.618311 -0.020924 -0.840245 -1.184028   \n",
       "1525   1.538574  0.237531 -0.865232 -0.432264 -0.699365 -0.021174  0.358182   \n",
       "1526   0.989720  0.304483 -0.677383 -0.325525 -0.689746 -0.702989  0.339682   \n",
       "\n",
       "              7         8         9  ...      1270      1271      1272  \\\n",
       "image                                ...                                 \n",
       "1163  -0.063711 -0.646313 -0.179434  ... -0.627197  0.065260  0.076759   \n",
       "1164   0.110811 -0.465037  0.744875  ... -0.638863 -0.071575  0.001753   \n",
       "1165  -0.156743 -0.092964 -1.446525  ...  0.190283 -0.624775  1.240647   \n",
       "1525   0.011606 -0.859797  1.771345  ... -0.424415 -0.100269 -1.089163   \n",
       "1526  -0.302013 -0.595768  0.823138  ... -0.563310 -1.299171 -0.895376   \n",
       "\n",
       "           1273      1274      1275      1276      1277      1278      1279  \n",
       "image                                                                        \n",
       "1163   0.114998  1.375037  2.669481 -0.539308  1.235730 -0.264875 -0.551288  \n",
       "1164   0.326641  1.232199  2.403879 -0.615210  1.178555 -0.179312 -0.542332  \n",
       "1165  -0.261998 -0.666391 -0.848931 -0.066920  1.264973 -0.255418 -0.544567  \n",
       "1525   0.107877 -0.042046 -0.429806  0.405103 -0.404875  1.598210 -0.669227  \n",
       "1526   0.419114  0.449609 -0.270480  1.217311 -0.358990 -0.562421 -0.664526  \n",
       "\n",
       "[5 rows x 1280 columns]"
      ]
     },
     "execution_count": 14,
     "metadata": {},
     "output_type": "execute_result"
    }
   ],
   "source": [
    "embeddings.head()"
   ]
  },
  {
   "cell_type": "markdown",
   "metadata": {},
   "source": [
    "# Nearest Neighbors"
   ]
  },
  {
   "cell_type": "code",
   "execution_count": 13,
   "metadata": {},
   "outputs": [],
   "source": [
    "from sklearn.model_selection import StratifiedKFold\n",
    "from sklearn.neighbors import NearestNeighbors\n",
    "from sklearn.metrics import precision_score, recall_score\n",
    "\n",
    "def get_recall(y_true, y_pred, k=5):\n",
    "    y_true = np.array(y_true.values)\n",
    "    y_pred = np.array(y_pred.values)\n",
    "    y_true = np.repeat(y_true, k)\n",
    "\n",
    "    return recall_score(y_true.reshape(-1), y_pred.reshape(-1), average='weighted')\n",
    "\n",
    "def get_precision(y_true, y_pred, k=5):\n",
    "    y_true = np.array(y_true.values)\n",
    "    y_pred = np.array(y_pred.values)\n",
    "    y_true = np.repeat(y_true, k)\n",
    "\n",
    "    return precision_score(y_true.reshape(-1), y_pred.reshape(-1), average='weighted')\n",
    "\n",
    "def get_knn_score(X, y, k=5, metric='cosine', category='sub'):\n",
    "    skf = StratifiedKFold(n_splits=5, shuffle=True, random_state=42)\n",
    "    prec = []\n",
    "    recall = []\n",
    "    # mlflow.set_experiment('image-based recsys')\n",
    "    with mlflow.start_run(experiment_id=mlflow.get_experiment_by_name('image-based recsys').experiment_id):\n",
    "        \n",
    "        mlflow.log_param('k', k)\n",
    "        mlflow.log_param('category', category)\n",
    "        mlflow.log_param('embeddings', 'EfficientNet_V2_S')\n",
    "        mlflow.log_param('dataset_hash', '44c73c23')\n",
    "        mlflow.log_param('metric', metric)\n",
    "        \n",
    "        for train_index, test_index in (progress := tqdm(skf.split(X, y), total=5, miniters=1)):\n",
    "            progress.set_description(f'{metric=}')\n",
    "            X_train, X_test = X.iloc[train_index], X.iloc[test_index]\n",
    "            y_train, y_test = y.iloc[train_index], y.iloc[test_index]\n",
    "\n",
    "            knn = NearestNeighbors(n_neighbors=k, metric=metric)\n",
    "            knn.fit(X_train)\n",
    "\n",
    "            _, indices = knn.kneighbors(X_test)\n",
    "\n",
    "            y_pred = y_train.iloc[indices.reshape(-1)]\n",
    "            prec.append(get_precision(y_test, y_pred, k))\n",
    "            recall.append(get_recall(y_test, y_pred, k))\n",
    "\n",
    "        mlflow.log_metric(f'precision-at-{k}', np.mean(prec))\n",
    "        mlflow.log_metric(f'recall-at-{k}', np.mean(recall))\n",
    "        mlflow.sklearn.log_model(knn, 'knn-ranker')\n",
    "\n",
    "    return {'precision': np.mean(prec), 'recall': np.mean(recall)}"
   ]
  },
  {
   "cell_type": "code",
   "execution_count": 14,
   "metadata": {},
   "outputs": [
    {
     "name": "stderr",
     "output_type": "stream",
     "text": [
      "metric='cosine': 100%|████████████████████████████████████████████████████████████████████| 5/5 [00:24<00:00,  4.84s/it]\n",
      "2023/07/12 11:43:49 WARNING mlflow.sklearn: Model was missing function: predict. Not logging python_function flavor!\n",
      "/home/zeinovich/anaconda3/envs/image-ranking/lib/python3.9/site-packages/_distutils_hack/__init__.py:33: UserWarning: Setuptools is replacing distutils.\n",
      "  warnings.warn(\"Setuptools is replacing distutils.\")\n",
      "metric='euclidean': 100%|█████████████████████████████████████████████████████████████████| 5/5 [00:43<00:00,  8.72s/it]\n",
      "2023/07/12 11:44:39 WARNING mlflow.sklearn: Model was missing function: predict. Not logging python_function flavor!\n"
     ]
    },
    {
     "data": {
      "text/html": [
       "<div>\n",
       "<style scoped>\n",
       "    .dataframe tbody tr th:only-of-type {\n",
       "        vertical-align: middle;\n",
       "    }\n",
       "\n",
       "    .dataframe tbody tr th {\n",
       "        vertical-align: top;\n",
       "    }\n",
       "\n",
       "    .dataframe thead th {\n",
       "        text-align: right;\n",
       "    }\n",
       "</style>\n",
       "<table border=\"1\" class=\"dataframe\">\n",
       "  <thead>\n",
       "    <tr style=\"text-align: right;\">\n",
       "      <th></th>\n",
       "      <th>metric</th>\n",
       "      <th>score</th>\n",
       "    </tr>\n",
       "  </thead>\n",
       "  <tbody>\n",
       "    <tr>\n",
       "      <th>0</th>\n",
       "      <td>cosine</td>\n",
       "      <td>{'precision': 0.9908139683533242, 'recall': 0....</td>\n",
       "    </tr>\n",
       "    <tr>\n",
       "      <th>1</th>\n",
       "      <td>euclidean</td>\n",
       "      <td>{'precision': 0.9902476837910734, 'recall': 0....</td>\n",
       "    </tr>\n",
       "  </tbody>\n",
       "</table>\n",
       "</div>"
      ],
      "text/plain": [
       "      metric                                              score\n",
       "0     cosine  {'precision': 0.9908139683533242, 'recall': 0....\n",
       "1  euclidean  {'precision': 0.9902476837910734, 'recall': 0...."
      ]
     },
     "execution_count": 14,
     "metadata": {},
     "output_type": "execute_result"
    }
   ],
   "source": [
    "K = 5\n",
    "METRICS = ['cosine', 'euclidean']\n",
    "\n",
    "scores = []\n",
    "\n",
    "for metric in METRICS:\n",
    "    score = get_knn_score(embeddings, styles['masterCategory'].cat.codes, k=K, metric=metric, category='master')\n",
    "    scores.append(score)\n",
    "\n",
    "scores = pd.DataFrame({'metric': METRICS, 'score': scores})\n",
    "scores"
   ]
  },
  {
   "cell_type": "code",
   "execution_count": 15,
   "metadata": {},
   "outputs": [
    {
     "name": "stderr",
     "output_type": "stream",
     "text": [
      "metric='cosine': 100%|████████████████████████████████████████████████████████████████████| 5/5 [00:23<00:00,  4.74s/it]\n",
      "2023/07/12 11:45:06 WARNING mlflow.sklearn: Model was missing function: predict. Not logging python_function flavor!\n",
      "metric='euclidean': 100%|█████████████████████████████████████████████████████████████████| 5/5 [00:39<00:00,  7.94s/it]\n",
      "2023/07/12 11:45:48 WARNING mlflow.sklearn: Model was missing function: predict. Not logging python_function flavor!\n"
     ]
    },
    {
     "data": {
      "text/html": [
       "<div>\n",
       "<style scoped>\n",
       "    .dataframe tbody tr th:only-of-type {\n",
       "        vertical-align: middle;\n",
       "    }\n",
       "\n",
       "    .dataframe tbody tr th {\n",
       "        vertical-align: top;\n",
       "    }\n",
       "\n",
       "    .dataframe thead th {\n",
       "        text-align: right;\n",
       "    }\n",
       "</style>\n",
       "<table border=\"1\" class=\"dataframe\">\n",
       "  <thead>\n",
       "    <tr style=\"text-align: right;\">\n",
       "      <th></th>\n",
       "      <th>metric</th>\n",
       "      <th>score</th>\n",
       "    </tr>\n",
       "  </thead>\n",
       "  <tbody>\n",
       "    <tr>\n",
       "      <th>0</th>\n",
       "      <td>cosine</td>\n",
       "      <td>{'precision': 0.9334580175735366, 'recall': 0....</td>\n",
       "    </tr>\n",
       "    <tr>\n",
       "      <th>1</th>\n",
       "      <td>euclidean</td>\n",
       "      <td>{'precision': 0.9310988692484546, 'recall': 0....</td>\n",
       "    </tr>\n",
       "  </tbody>\n",
       "</table>\n",
       "</div>"
      ],
      "text/plain": [
       "      metric                                              score\n",
       "0     cosine  {'precision': 0.9334580175735366, 'recall': 0....\n",
       "1  euclidean  {'precision': 0.9310988692484546, 'recall': 0...."
      ]
     },
     "execution_count": 15,
     "metadata": {},
     "output_type": "execute_result"
    }
   ],
   "source": [
    "K = 5\n",
    "METRICS = ['cosine', 'euclidean']\n",
    "\n",
    "scores = []\n",
    "\n",
    "for metric in METRICS:\n",
    "    score = get_knn_score(embeddings, styles['subCategory'].cat.codes, k=K, metric=metric, category='sub')\n",
    "    scores.append(score)\n",
    "\n",
    "scores = pd.DataFrame({'metric': METRICS, 'score': scores})\n",
    "scores"
   ]
  },
  {
   "cell_type": "code",
   "execution_count": 16,
   "metadata": {},
   "outputs": [
    {
     "data": {
      "text/plain": [
       "NearestNeighbors(metric='euclidean')"
      ]
     },
     "execution_count": 16,
     "metadata": {},
     "output_type": "execute_result"
    }
   ],
   "source": [
    "knn = NearestNeighbors(n_neighbors=K, metric='euclidean')\n",
    "knn.fit(embeddings)"
   ]
  },
  {
   "cell_type": "code",
   "execution_count": 17,
   "metadata": {},
   "outputs": [],
   "source": [
    "s = styles.sample(1).index\n",
    "\n",
    "sample_emb = embeddings.loc[s]"
   ]
  },
  {
   "cell_type": "code",
   "execution_count": 18,
   "metadata": {},
   "outputs": [
    {
     "data": {
      "text/plain": [
       "Int64Index([3843], dtype='int64', name='id')"
      ]
     },
     "execution_count": 18,
     "metadata": {},
     "output_type": "execute_result"
    }
   ],
   "source": [
    "s"
   ]
  },
  {
   "cell_type": "code",
   "execution_count": 19,
   "metadata": {},
   "outputs": [],
   "source": [
    "pd.set_option('display.max_columns', 100)"
   ]
  },
  {
   "cell_type": "code",
   "execution_count": 20,
   "metadata": {},
   "outputs": [
    {
     "data": {
      "text/html": [
       "<div>\n",
       "<style scoped>\n",
       "    .dataframe tbody tr th:only-of-type {\n",
       "        vertical-align: middle;\n",
       "    }\n",
       "\n",
       "    .dataframe tbody tr th {\n",
       "        vertical-align: top;\n",
       "    }\n",
       "\n",
       "    .dataframe thead th {\n",
       "        text-align: right;\n",
       "    }\n",
       "</style>\n",
       "<table border=\"1\" class=\"dataframe\">\n",
       "  <thead>\n",
       "    <tr style=\"text-align: right;\">\n",
       "      <th></th>\n",
       "      <th>price</th>\n",
       "      <th>discountedPrice</th>\n",
       "      <th>styleType</th>\n",
       "      <th>productTypeId</th>\n",
       "      <th>articleNumber</th>\n",
       "      <th>visualTag</th>\n",
       "      <th>productDisplayName</th>\n",
       "      <th>variantName</th>\n",
       "      <th>myntraRating</th>\n",
       "      <th>catalogAddDate</th>\n",
       "      <th>brandName</th>\n",
       "      <th>ageGroup</th>\n",
       "      <th>gender</th>\n",
       "      <th>baseColour</th>\n",
       "      <th>colour1</th>\n",
       "      <th>colour2</th>\n",
       "      <th>fashionType</th>\n",
       "      <th>season</th>\n",
       "      <th>year</th>\n",
       "      <th>usage</th>\n",
       "      <th>vat</th>\n",
       "      <th>displayCategories</th>\n",
       "      <th>weight</th>\n",
       "      <th>navigationId</th>\n",
       "      <th>landingPageUrl</th>\n",
       "      <th>articleAttributes</th>\n",
       "      <th>brandUserProfile</th>\n",
       "      <th>codEnabled</th>\n",
       "      <th>styleImages</th>\n",
       "      <th>lookGoodAlbum</th>\n",
       "      <th>style360Images</th>\n",
       "      <th>masterCategory</th>\n",
       "      <th>subCategory</th>\n",
       "      <th>articleType</th>\n",
       "      <th>isEMIEnabled</th>\n",
       "      <th>productDescriptors</th>\n",
       "      <th>styleOptions</th>\n",
       "      <th>colours</th>\n",
       "      <th>discountData</th>\n",
       "    </tr>\n",
       "    <tr>\n",
       "      <th>id</th>\n",
       "      <th></th>\n",
       "      <th></th>\n",
       "      <th></th>\n",
       "      <th></th>\n",
       "      <th></th>\n",
       "      <th></th>\n",
       "      <th></th>\n",
       "      <th></th>\n",
       "      <th></th>\n",
       "      <th></th>\n",
       "      <th></th>\n",
       "      <th></th>\n",
       "      <th></th>\n",
       "      <th></th>\n",
       "      <th></th>\n",
       "      <th></th>\n",
       "      <th></th>\n",
       "      <th></th>\n",
       "      <th></th>\n",
       "      <th></th>\n",
       "      <th></th>\n",
       "      <th></th>\n",
       "      <th></th>\n",
       "      <th></th>\n",
       "      <th></th>\n",
       "      <th></th>\n",
       "      <th></th>\n",
       "      <th></th>\n",
       "      <th></th>\n",
       "      <th></th>\n",
       "      <th></th>\n",
       "      <th></th>\n",
       "      <th></th>\n",
       "      <th></th>\n",
       "      <th></th>\n",
       "      <th></th>\n",
       "      <th></th>\n",
       "      <th></th>\n",
       "      <th></th>\n",
       "    </tr>\n",
       "  </thead>\n",
       "  <tbody>\n",
       "    <tr>\n",
       "      <th>3843</th>\n",
       "      <td>1195</td>\n",
       "      <td>1195</td>\n",
       "      <td>P</td>\n",
       "      <td>323</td>\n",
       "      <td>10823-710-420</td>\n",
       "      <td></td>\n",
       "      <td>Crocs Women Lady Gold Sandal</td>\n",
       "      <td>Lady WomenGold</td>\n",
       "      <td>1</td>\n",
       "      <td>1458193333</td>\n",
       "      <td>Crocs</td>\n",
       "      <td>Adults-Women</td>\n",
       "      <td>Women</td>\n",
       "      <td>Gold</td>\n",
       "      <td>NA</td>\n",
       "      <td>NA</td>\n",
       "      <td>Fashion</td>\n",
       "      <td>Summer</td>\n",
       "      <td>2011</td>\n",
       "      <td>Casual</td>\n",
       "      <td>14.5</td>\n",
       "      <td>Footwear,Sale</td>\n",
       "      <td>0</td>\n",
       "      <td>0</td>\n",
       "      <td>Flats/Crocs/Crocs-Women-Lady-Gold-Sandal/3843/buy</td>\n",
       "      <td>{}</td>\n",
       "      <td>{'uidx': '89d00bb2.93eb.4b42.a4d4.21fed5dcc7a8...</td>\n",
       "      <td>True</td>\n",
       "      <td>{'default': {'imageURL': 'http://assets.myntas...</td>\n",
       "      <td>{}</td>\n",
       "      <td>{}</td>\n",
       "      <td>Footwear</td>\n",
       "      <td>Shoes</td>\n",
       "      <td>Flats</td>\n",
       "      <td>True</td>\n",
       "      <td>&lt;p&gt;&lt;p style=\"text-align: justify;\"&gt;&lt;strong&gt;Com...</td>\n",
       "      <td>[{'id': 13752, 'name': 'Size', 'value': 'W5', ...</td>\n",
       "      <td>{'colors': {'3840': {'dre_landing_page_url': '...</td>\n",
       "      <td>NaN</td>\n",
       "    </tr>\n",
       "  </tbody>\n",
       "</table>\n",
       "</div>"
      ],
      "text/plain": [
       "     price discountedPrice styleType productTypeId  articleNumber visualTag  \\\n",
       "id                                                                            \n",
       "3843  1195            1195         P           323  10823-710-420             \n",
       "\n",
       "                productDisplayName     variantName myntraRating  \\\n",
       "id                                                                \n",
       "3843  Crocs Women Lady Gold Sandal  Lady WomenGold            1   \n",
       "\n",
       "     catalogAddDate brandName      ageGroup gender baseColour colour1 colour2  \\\n",
       "id                                                                              \n",
       "3843     1458193333     Crocs  Adults-Women  Women       Gold      NA      NA   \n",
       "\n",
       "     fashionType  season  year   usage   vat displayCategories weight  \\\n",
       "id                                                                      \n",
       "3843     Fashion  Summer  2011  Casual  14.5     Footwear,Sale      0   \n",
       "\n",
       "     navigationId                                     landingPageUrl  \\\n",
       "id                                                                     \n",
       "3843            0  Flats/Crocs/Crocs-Women-Lady-Gold-Sandal/3843/buy   \n",
       "\n",
       "     articleAttributes                                   brandUserProfile  \\\n",
       "id                                                                          \n",
       "3843                {}  {'uidx': '89d00bb2.93eb.4b42.a4d4.21fed5dcc7a8...   \n",
       "\n",
       "     codEnabled                                        styleImages  \\\n",
       "id                                                                   \n",
       "3843       True  {'default': {'imageURL': 'http://assets.myntas...   \n",
       "\n",
       "     lookGoodAlbum style360Images masterCategory subCategory articleType  \\\n",
       "id                                                                         \n",
       "3843            {}             {}       Footwear       Shoes       Flats   \n",
       "\n",
       "     isEMIEnabled                                 productDescriptors  \\\n",
       "id                                                                     \n",
       "3843         True  <p><p style=\"text-align: justify;\"><strong>Com...   \n",
       "\n",
       "                                           styleOptions  \\\n",
       "id                                                        \n",
       "3843  [{'id': 13752, 'name': 'Size', 'value': 'W5', ...   \n",
       "\n",
       "                                                colours discountData  \n",
       "id                                                                    \n",
       "3843  {'colors': {'3840': {'dre_landing_page_url': '...          NaN  "
      ]
     },
     "execution_count": 20,
     "metadata": {},
     "output_type": "execute_result"
    }
   ],
   "source": [
    "styles.loc[s]"
   ]
  },
  {
   "cell_type": "code",
   "execution_count": 21,
   "metadata": {},
   "outputs": [
    {
     "name": "stdout",
     "output_type": "stream",
     "text": [
      "http://assets.myntassets.com/v1/images/style/properties/504a27acee8e6d89d7eec2fae5b5ef01_images.jpg\n"
     ]
    }
   ],
   "source": [
    "print(styles.loc[s, 'styleImages'].iloc[0]['default']['imageURL'])"
   ]
  },
  {
   "cell_type": "code",
   "execution_count": 22,
   "metadata": {},
   "outputs": [
    {
     "data": {
      "text/plain": [
       "array([[ 1405,  1404,  1403, 23951, 24968]])"
      ]
     },
     "execution_count": 22,
     "metadata": {},
     "output_type": "execute_result"
    }
   ],
   "source": [
    "_, indices = knn.kneighbors(sample_emb)\n",
    "indices"
   ]
  },
  {
   "cell_type": "code",
   "execution_count": 23,
   "metadata": {},
   "outputs": [
    {
     "name": "stdout",
     "output_type": "stream",
     "text": [
      "http://assets.myntassets.com/v1/images/style/properties/504a27acee8e6d89d7eec2fae5b5ef01_images.jpg\n",
      "http://assets.myntassets.com/v1/images/style/properties/19b8f384b805fe6a77f21b203703e0c5_images.jpg\n",
      "http://assets.myntassets.com/v1/images/style/properties/38a2d7faa1b64859acdcd8d30bb03d07_images.jpg\n",
      "http://assets.myntassets.com/v1/images/style/properties/46693e48cbce8e6c469ee94853441437_images.jpg\n",
      "http://assets.myntassets.com/v1/images/style/properties/bc36a8b2565c3758ba7659ed46bb00a7_images.jpg\n"
     ]
    }
   ],
   "source": [
    "for i in indices[0]:\n",
    "    print(styles.iloc[i]['styleImages']['default']['imageURL'])"
   ]
  },
  {
   "cell_type": "code",
   "execution_count": null,
   "metadata": {},
   "outputs": [],
   "source": []
  }
 ],
 "metadata": {
  "kernelspec": {
   "display_name": "Python 3 (ipykernel)",
   "language": "python",
   "name": "python3"
  },
  "language_info": {
   "codemirror_mode": {
    "name": "ipython",
    "version": 3
   },
   "file_extension": ".py",
   "mimetype": "text/x-python",
   "name": "python",
   "nbconvert_exporter": "python",
   "pygments_lexer": "ipython3",
   "version": "3.9.13"
  }
 },
 "nbformat": 4,
 "nbformat_minor": 2
}
