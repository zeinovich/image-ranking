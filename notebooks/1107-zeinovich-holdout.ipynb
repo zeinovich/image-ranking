{
 "cells": [
  {
   "cell_type": "code",
   "execution_count": 1,
   "metadata": {},
   "outputs": [],
   "source": [
    "import pandas as pd\n",
    "import numpy as np\n",
    "import matplotlib.pyplot as plt\n",
    "import seaborn as sns\n",
    "import pickle\n",
    "\n",
    "from sklearn.model_selection import train_test_split"
   ]
  },
  {
   "cell_type": "markdown",
   "metadata": {},
   "source": [
    "Here I'll split data into ~40K train images and ~5K holdout set."
   ]
  },
  {
   "cell_type": "code",
   "execution_count": 2,
   "metadata": {},
   "outputs": [],
   "source": [
    "with open('../data/styles-44c73c23.pkl', 'rb') as f:\n",
    "    df = pickle.load(f)"
   ]
  },
  {
   "cell_type": "code",
   "execution_count": 3,
   "metadata": {},
   "outputs": [
    {
     "data": {
      "text/html": [
       "<div>\n",
       "<style scoped>\n",
       "    .dataframe tbody tr th:only-of-type {\n",
       "        vertical-align: middle;\n",
       "    }\n",
       "\n",
       "    .dataframe tbody tr th {\n",
       "        vertical-align: top;\n",
       "    }\n",
       "\n",
       "    .dataframe thead th {\n",
       "        text-align: right;\n",
       "    }\n",
       "</style>\n",
       "<table border=\"1\" class=\"dataframe\">\n",
       "  <thead>\n",
       "    <tr style=\"text-align: right;\">\n",
       "      <th></th>\n",
       "      <th>id</th>\n",
       "      <th>price</th>\n",
       "      <th>discountedPrice</th>\n",
       "      <th>styleType</th>\n",
       "      <th>productTypeId</th>\n",
       "      <th>articleNumber</th>\n",
       "      <th>visualTag</th>\n",
       "      <th>productDisplayName</th>\n",
       "      <th>variantName</th>\n",
       "      <th>myntraRating</th>\n",
       "      <th>...</th>\n",
       "      <th>lookGoodAlbum</th>\n",
       "      <th>style360Images</th>\n",
       "      <th>masterCategory</th>\n",
       "      <th>subCategory</th>\n",
       "      <th>articleType</th>\n",
       "      <th>isEMIEnabled</th>\n",
       "      <th>productDescriptors</th>\n",
       "      <th>styleOptions</th>\n",
       "      <th>colours</th>\n",
       "      <th>discountData</th>\n",
       "    </tr>\n",
       "  </thead>\n",
       "  <tbody>\n",
       "    <tr>\n",
       "      <th>0</th>\n",
       "      <td>1566</td>\n",
       "      <td>299</td>\n",
       "      <td>299</td>\n",
       "      <td>P</td>\n",
       "      <td>299</td>\n",
       "      <td>27144</td>\n",
       "      <td></td>\n",
       "      <td>Artengo Men Black Cap</td>\n",
       "      <td>Black</td>\n",
       "      <td>10</td>\n",
       "      <td>...</td>\n",
       "      <td>{}</td>\n",
       "      <td>{}</td>\n",
       "      <td>Accessories</td>\n",
       "      <td>Headwear</td>\n",
       "      <td>Caps</td>\n",
       "      <td>False</td>\n",
       "      <td>-</td>\n",
       "      <td>[{'id': 4953, 'name': 'Size', 'value': 'JUNIOR...</td>\n",
       "      <td>NaN</td>\n",
       "      <td>NaN</td>\n",
       "    </tr>\n",
       "    <tr>\n",
       "      <th>1</th>\n",
       "      <td>39342</td>\n",
       "      <td>2199</td>\n",
       "      <td>2199</td>\n",
       "      <td>P</td>\n",
       "      <td>288</td>\n",
       "      <td>81SU292201</td>\n",
       "      <td></td>\n",
       "      <td>Fila Men Zoom Black Shoes</td>\n",
       "      <td>ZOOM HI</td>\n",
       "      <td>0</td>\n",
       "      <td>...</td>\n",
       "      <td>{}</td>\n",
       "      <td>{}</td>\n",
       "      <td>Footwear</td>\n",
       "      <td>Shoes</td>\n",
       "      <td>Casual Shoes</td>\n",
       "      <td>True</td>\n",
       "      <td>&lt;p&gt;&lt;strong&gt;Style Note&lt;/strong&gt;&lt;br /&gt;A perfect ...</td>\n",
       "      <td>[{'id': 157461, 'name': 'Size', 'value': 'UK4'...</td>\n",
       "      <td>{'colors': {'39341': {'dre_landing_page_url': ...</td>\n",
       "      <td>NaN</td>\n",
       "    </tr>\n",
       "    <tr>\n",
       "      <th>2</th>\n",
       "      <td>13182</td>\n",
       "      <td>2499</td>\n",
       "      <td>2499</td>\n",
       "      <td>P</td>\n",
       "      <td>288</td>\n",
       "      <td>1SB106XX010</td>\n",
       "      <td></td>\n",
       "      <td>FILA Men Dls Maxim Black Sports Shoes</td>\n",
       "      <td>Dls Maxim</td>\n",
       "      <td>1</td>\n",
       "      <td>...</td>\n",
       "      <td>{}</td>\n",
       "      <td>{}</td>\n",
       "      <td>Footwear</td>\n",
       "      <td>Shoes</td>\n",
       "      <td>Sports Shoes</td>\n",
       "      <td>True</td>\n",
       "      <td>&lt;p style=\"text-align: justify;\"&gt;Win those winn...</td>\n",
       "      <td>[{'id': 61037, 'name': 'Size', 'value': 'UK7',...</td>\n",
       "      <td>{'colors': {'13181': {'dre_landing_page_url': ...</td>\n",
       "      <td>NaN</td>\n",
       "    </tr>\n",
       "    <tr>\n",
       "      <th>3</th>\n",
       "      <td>21762</td>\n",
       "      <td>1695</td>\n",
       "      <td>1440</td>\n",
       "      <td>RTV</td>\n",
       "      <td>360</td>\n",
       "      <td>MB1212001</td>\n",
       "      <td></td>\n",
       "      <td>Fossil Men Mead Black Belt</td>\n",
       "      <td>Mead</td>\n",
       "      <td>0</td>\n",
       "      <td>...</td>\n",
       "      <td>{}</td>\n",
       "      <td>{}</td>\n",
       "      <td>Accessories</td>\n",
       "      <td>Belts</td>\n",
       "      <td>Belts</td>\n",
       "      <td>True</td>\n",
       "      <td>&lt;p&gt;Crafted from pure leather, this fossil belt...</td>\n",
       "      <td>[{'id': 98334, 'name': 'Size', 'value': '36', ...</td>\n",
       "      <td>NaN</td>\n",
       "      <td>{'discountType': 1, 'discountAmount': 255, 'di...</td>\n",
       "    </tr>\n",
       "    <tr>\n",
       "      <th>4</th>\n",
       "      <td>48692</td>\n",
       "      <td>1525</td>\n",
       "      <td>1509</td>\n",
       "      <td>P</td>\n",
       "      <td>416</td>\n",
       "      <td>EF8782</td>\n",
       "      <td></td>\n",
       "      <td>Lucera Women Silver Earrings</td>\n",
       "      <td>Silver</td>\n",
       "      <td>1</td>\n",
       "      <td>...</td>\n",
       "      <td>{}</td>\n",
       "      <td>{}</td>\n",
       "      <td>Accessories</td>\n",
       "      <td>Jewellery</td>\n",
       "      <td>Earrings</td>\n",
       "      <td>False</td>\n",
       "      <td>&lt;p&gt;Silver coloured earrings&lt;br /&gt;An amber colo...</td>\n",
       "      <td>[{'id': 189222, 'name': 'Size', 'value': 'Ones...</td>\n",
       "      <td>NaN</td>\n",
       "      <td>{'discountType': 1, 'discountAmount': 16, 'dis...</td>\n",
       "    </tr>\n",
       "  </tbody>\n",
       "</table>\n",
       "<p>5 rows × 40 columns</p>\n",
       "</div>"
      ],
      "text/plain": [
       "      id price discountedPrice styleType productTypeId articleNumber  \\\n",
       "0   1566   299             299         P           299         27144   \n",
       "1  39342  2199            2199         P           288    81SU292201   \n",
       "2  13182  2499            2499         P           288   1SB106XX010   \n",
       "3  21762  1695            1440       RTV           360     MB1212001   \n",
       "4  48692  1525            1509         P           416        EF8782   \n",
       "\n",
       "  visualTag                     productDisplayName variantName myntraRating  \\\n",
       "0                            Artengo Men Black Cap       Black           10   \n",
       "1                        Fila Men Zoom Black Shoes     ZOOM HI            0   \n",
       "2            FILA Men Dls Maxim Black Sports Shoes   Dls Maxim            1   \n",
       "3                       Fossil Men Mead Black Belt        Mead            0   \n",
       "4                     Lucera Women Silver Earrings      Silver            1   \n",
       "\n",
       "   ... lookGoodAlbum style360Images masterCategory subCategory   articleType  \\\n",
       "0  ...            {}             {}    Accessories    Headwear          Caps   \n",
       "1  ...            {}             {}       Footwear       Shoes  Casual Shoes   \n",
       "2  ...            {}             {}       Footwear       Shoes  Sports Shoes   \n",
       "3  ...            {}             {}    Accessories       Belts         Belts   \n",
       "4  ...            {}             {}    Accessories   Jewellery      Earrings   \n",
       "\n",
       "  isEMIEnabled                                 productDescriptors  \\\n",
       "0        False                                                  -   \n",
       "1         True  <p><strong>Style Note</strong><br />A perfect ...   \n",
       "2         True  <p style=\"text-align: justify;\">Win those winn...   \n",
       "3         True  <p>Crafted from pure leather, this fossil belt...   \n",
       "4        False  <p>Silver coloured earrings<br />An amber colo...   \n",
       "\n",
       "                                        styleOptions  \\\n",
       "0  [{'id': 4953, 'name': 'Size', 'value': 'JUNIOR...   \n",
       "1  [{'id': 157461, 'name': 'Size', 'value': 'UK4'...   \n",
       "2  [{'id': 61037, 'name': 'Size', 'value': 'UK7',...   \n",
       "3  [{'id': 98334, 'name': 'Size', 'value': '36', ...   \n",
       "4  [{'id': 189222, 'name': 'Size', 'value': 'Ones...   \n",
       "\n",
       "                                             colours  \\\n",
       "0                                                NaN   \n",
       "1  {'colors': {'39341': {'dre_landing_page_url': ...   \n",
       "2  {'colors': {'13181': {'dre_landing_page_url': ...   \n",
       "3                                                NaN   \n",
       "4                                                NaN   \n",
       "\n",
       "                                        discountData  \n",
       "0                                                NaN  \n",
       "1                                                NaN  \n",
       "2                                                NaN  \n",
       "3  {'discountType': 1, 'discountAmount': 255, 'di...  \n",
       "4  {'discountType': 1, 'discountAmount': 16, 'dis...  \n",
       "\n",
       "[5 rows x 40 columns]"
      ]
     },
     "execution_count": 3,
     "metadata": {},
     "output_type": "execute_result"
    }
   ],
   "source": [
    "df.head()"
   ]
  },
  {
   "cell_type": "code",
   "execution_count": 4,
   "metadata": {},
   "outputs": [],
   "source": [
    "embeddings = pd.read_parquet('../data/embeddings-efe5f026.parquet')"
   ]
  },
  {
   "cell_type": "code",
   "execution_count": 5,
   "metadata": {},
   "outputs": [],
   "source": [
    "df = df[df['id'].isin(embeddings['image'])]"
   ]
  },
  {
   "cell_type": "code",
   "execution_count": 6,
   "metadata": {},
   "outputs": [
    {
     "data": {
      "text/plain": [
       "Topwear                     15401\n",
       "Shoes                        7344\n",
       "Bags                         3055\n",
       "Bottomwear                   2693\n",
       "Watches                      2542\n",
       "Innerwear                    1808\n",
       "Jewellery                    1080\n",
       "Eyewear                      1073\n",
       "Fragrance                    1012\n",
       "Sandal                        963\n",
       "Wallets                       933\n",
       "Flip Flops                    915\n",
       "Belts                         811\n",
       "Socks                         698\n",
       "Lips                          527\n",
       "Dress                         478\n",
       "Loungewear and Nightwear      470\n",
       "Saree                         427\n",
       "Nails                         329\n",
       "Makeup                        307\n",
       "Headwear                      293\n",
       "Ties                          258\n",
       "Accessories                   143\n",
       "Scarves                       118\n",
       "Cufflinks                     108\n",
       "Apparel Set                   106\n",
       "Free Gifts                    104\n",
       "Stoles                         90\n",
       "Skin Care                      77\n",
       "Skin                           69\n",
       "Eyes                           43\n",
       "Mufflers                       38\n",
       "Shoe Accessories               24\n",
       "Sports Equipment               21\n",
       "Gloves                         20\n",
       "Hair                           19\n",
       "Bath and Body                  12\n",
       "Water Bottle                    7\n",
       "Perfumes                        6\n",
       "Umbrellas                       6\n",
       "Beauty Accessories              4\n",
       "Wristbands                      4\n",
       "Sports Accessories              3\n",
       "Vouchers                        1\n",
       "Home Furnishing                 1\n",
       "Name: subCategory, dtype: int64"
      ]
     },
     "execution_count": 6,
     "metadata": {},
     "output_type": "execute_result"
    }
   ],
   "source": [
    "df.subCategory.value_counts()"
   ]
  },
  {
   "cell_type": "code",
   "execution_count": 7,
   "metadata": {},
   "outputs": [],
   "source": [
    "# rename some categories\n",
    "\n",
    "df.subCategory = df.subCategory.replace('Sports Accessories', 'Sports Equipment')\n",
    "df.subCategory = df.subCategory.replace('Skin Care', 'Skin')"
   ]
  },
  {
   "cell_type": "code",
   "execution_count": 8,
   "metadata": {},
   "outputs": [
    {
     "data": {
      "text/plain": [
       "Topwear                     15401\n",
       "Shoes                        7344\n",
       "Bags                         3055\n",
       "Bottomwear                   2693\n",
       "Watches                      2542\n",
       "Innerwear                    1808\n",
       "Jewellery                    1080\n",
       "Eyewear                      1073\n",
       "Fragrance                    1012\n",
       "Sandal                        963\n",
       "Wallets                       933\n",
       "Flip Flops                    915\n",
       "Belts                         811\n",
       "Socks                         698\n",
       "Lips                          527\n",
       "Dress                         478\n",
       "Loungewear and Nightwear      470\n",
       "Saree                         427\n",
       "Nails                         329\n",
       "Makeup                        307\n",
       "Headwear                      293\n",
       "Ties                          258\n",
       "Skin                          146\n",
       "Accessories                   143\n",
       "Scarves                       118\n",
       "Cufflinks                     108\n",
       "Apparel Set                   106\n",
       "Free Gifts                    104\n",
       "Stoles                         90\n",
       "Eyes                           43\n",
       "Mufflers                       38\n",
       "Sports Equipment               24\n",
       "Shoe Accessories               24\n",
       "Gloves                         20\n",
       "Hair                           19\n",
       "Bath and Body                  12\n",
       "Water Bottle                    7\n",
       "Perfumes                        6\n",
       "Umbrellas                       6\n",
       "Beauty Accessories              4\n",
       "Wristbands                      4\n",
       "Home Furnishing                 1\n",
       "Vouchers                        1\n",
       "Name: subCategory, dtype: int64"
      ]
     },
     "execution_count": 8,
     "metadata": {},
     "output_type": "execute_result"
    }
   ],
   "source": [
    "df.subCategory.value_counts()"
   ]
  },
  {
   "cell_type": "code",
   "execution_count": 9,
   "metadata": {},
   "outputs": [],
   "source": [
    "v_counts = df.subCategory.value_counts()"
   ]
  },
  {
   "cell_type": "code",
   "execution_count": 10,
   "metadata": {},
   "outputs": [
    {
     "data": {
      "text/plain": [
       "Topwear                     15401\n",
       "Shoes                        7344\n",
       "Bags                         3055\n",
       "Bottomwear                   2693\n",
       "Watches                      2542\n",
       "Innerwear                    1808\n",
       "Jewellery                    1080\n",
       "Eyewear                      1073\n",
       "Fragrance                    1012\n",
       "Sandal                        963\n",
       "Wallets                       933\n",
       "Flip Flops                    915\n",
       "Belts                         811\n",
       "Socks                         698\n",
       "Lips                          527\n",
       "Dress                         478\n",
       "Loungewear and Nightwear      470\n",
       "Saree                         427\n",
       "Nails                         329\n",
       "Makeup                        307\n",
       "Headwear                      293\n",
       "Ties                          258\n",
       "Skin                          146\n",
       "Accessories                   143\n",
       "Scarves                       118\n",
       "Cufflinks                     108\n",
       "Apparel Set                   106\n",
       "Free Gifts                    104\n",
       "Stoles                         90\n",
       "Eyes                           43\n",
       "Mufflers                       38\n",
       "Sports Equipment               24\n",
       "Shoe Accessories               24\n",
       "Gloves                         20\n",
       "Hair                           19\n",
       "Bath and Body                  12\n",
       "Perfumes                        0\n",
       "Home Furnishing                 0\n",
       "Umbrellas                       0\n",
       "Vouchers                        0\n",
       "Beauty Accessories              0\n",
       "Water Bottle                    0\n",
       "Wristbands                      0\n",
       "Name: subCategory, dtype: int64"
      ]
     },
     "execution_count": 10,
     "metadata": {},
     "output_type": "execute_result"
    }
   ],
   "source": [
    "df = df[df.subCategory.isin(v_counts[v_counts > 10].index)]\n",
    "df.subCategory.value_counts()"
   ]
  },
  {
   "cell_type": "code",
   "execution_count": 13,
   "metadata": {},
   "outputs": [],
   "source": [
    "cat_cols = df.dtypes[df.dtypes == 'category'].index\n",
    "df[cat_cols] = df[cat_cols].astype('object').astype('category')"
   ]
  },
  {
   "cell_type": "code",
   "execution_count": 14,
   "metadata": {},
   "outputs": [
    {
     "data": {
      "text/plain": [
       "Topwear                     15401\n",
       "Shoes                        7344\n",
       "Bags                         3055\n",
       "Bottomwear                   2693\n",
       "Watches                      2542\n",
       "Innerwear                    1808\n",
       "Jewellery                    1080\n",
       "Eyewear                      1073\n",
       "Fragrance                    1012\n",
       "Sandal                        963\n",
       "Wallets                       933\n",
       "Flip Flops                    915\n",
       "Belts                         811\n",
       "Socks                         698\n",
       "Lips                          527\n",
       "Dress                         478\n",
       "Loungewear and Nightwear      470\n",
       "Saree                         427\n",
       "Nails                         329\n",
       "Makeup                        307\n",
       "Headwear                      293\n",
       "Ties                          258\n",
       "Skin                          146\n",
       "Accessories                   143\n",
       "Scarves                       118\n",
       "Cufflinks                     108\n",
       "Apparel Set                   106\n",
       "Free Gifts                    104\n",
       "Stoles                         90\n",
       "Eyes                           43\n",
       "Mufflers                       38\n",
       "Shoe Accessories               24\n",
       "Sports Equipment               24\n",
       "Gloves                         20\n",
       "Hair                           19\n",
       "Bath and Body                  12\n",
       "Name: subCategory, dtype: int64"
      ]
     },
     "execution_count": 14,
     "metadata": {},
     "output_type": "execute_result"
    }
   ],
   "source": [
    "df.subCategory.value_counts()"
   ]
  },
  {
   "cell_type": "code",
   "execution_count": 15,
   "metadata": {},
   "outputs": [
    {
     "data": {
      "text/plain": [
       "(44412, 40)"
      ]
     },
     "execution_count": 15,
     "metadata": {},
     "output_type": "execute_result"
    }
   ],
   "source": [
    "df.shape"
   ]
  },
  {
   "cell_type": "code",
   "execution_count": 16,
   "metadata": {},
   "outputs": [
    {
     "data": {
      "text/plain": [
       "(44412, 1281)"
      ]
     },
     "execution_count": 16,
     "metadata": {},
     "output_type": "execute_result"
    }
   ],
   "source": [
    "embeddings = embeddings[embeddings['image'].isin(df['id'])]\n",
    "embeddings.shape"
   ]
  },
  {
   "cell_type": "code",
   "execution_count": 17,
   "metadata": {},
   "outputs": [],
   "source": [
    "X = df.drop(['subCategory'], axis=1)\n",
    "y = df['subCategory']\n",
    "\n",
    "X_train, X_test, y_train, y_test = train_test_split(X, y, test_size=0.2, stratify=y)"
   ]
  },
  {
   "cell_type": "code",
   "execution_count": 18,
   "metadata": {},
   "outputs": [
    {
     "data": {
      "text/plain": [
       "1173     23591\n",
       "41654    39604\n",
       "12891    49462\n",
       "38182    26809\n",
       "25148    56261\n",
       "         ...  \n",
       "21048    47450\n",
       "6375     52897\n",
       "37723     4509\n",
       "42660    55090\n",
       "19690    13843\n",
       "Name: id, Length: 8883, dtype: object"
      ]
     },
     "execution_count": 18,
     "metadata": {},
     "output_type": "execute_result"
    }
   ],
   "source": [
    "holdout_ids = X_test.id\n",
    "holdout_ids"
   ]
  },
  {
   "cell_type": "code",
   "execution_count": 19,
   "metadata": {},
   "outputs": [],
   "source": [
    "holdout_ids.to_csv('../data/holdout_ids.csv', index=False)"
   ]
  },
  {
   "cell_type": "code",
   "execution_count": 21,
   "metadata": {},
   "outputs": [],
   "source": [
    "with open('../data/styles-44c73c23.pkl', 'wb') as f:\n",
    "    pickle.dump(df, f)"
   ]
  },
  {
   "cell_type": "code",
   "execution_count": 22,
   "metadata": {},
   "outputs": [],
   "source": [
    "embeddings.to_parquet('../data/embeddings-44c73c23.parquet')"
   ]
  },
  {
   "cell_type": "code",
   "execution_count": null,
   "metadata": {},
   "outputs": [],
   "source": []
  }
 ],
 "metadata": {
  "kernelspec": {
   "display_name": "image-ranking",
   "language": "python",
   "name": "python3"
  },
  "language_info": {
   "codemirror_mode": {
    "name": "ipython",
    "version": 3
   },
   "file_extension": ".py",
   "mimetype": "text/x-python",
   "name": "python",
   "nbconvert_exporter": "python",
   "pygments_lexer": "ipython3",
   "version": "3.9.13"
  },
  "orig_nbformat": 4
 },
 "nbformat": 4,
 "nbformat_minor": 2
}
